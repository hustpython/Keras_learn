{
 "cells": [
  {
   "cell_type": "code",
   "execution_count": 1,
   "metadata": {
    "collapsed": false
   },
   "outputs": [
    {
     "name": "stderr",
     "output_type": "stream",
     "text": [
      "Using TensorFlow backend.\n"
     ]
    }
   ],
   "source": [
    "#导入相关库\n",
    "import numpy as np\n",
    "from keras.datasets import mnist\n",
    "from keras.utils import np_utils\n",
    "from keras.models import Sequential\n",
    "from keras.layers import Dense\n",
    "from keras.optimizers import SGD"
   ]
  },
  {
   "cell_type": "code",
   "execution_count": 2,
   "metadata": {
    "collapsed": true
   },
   "outputs": [],
   "source": [
    "#载入数据与归一化\n",
    "#载入数据\n",
    "(x_train,y_train),(x_test,y_test)=mnist.load_data()\n",
    "#重新定义数据格式\n",
    "#60000,784及归一化\n",
    "x_train=x_train.reshape(x_train.shape[0],-1)/255.0\n",
    "x_test=x_test.reshape(x_test.shape[0],-1)/255.0\n",
    "\n",
    "#转one-hot标签\n",
    "y_train=np_utils.to_categorical(y_train,num_classes=10)\n",
    "y_test=np_utils.to_categorical(y_test,num_classes=10)"
   ]
  },
  {
   "cell_type": "code",
   "execution_count": 3,
   "metadata": {
    "collapsed": false
   },
   "outputs": [
    {
     "name": "stderr",
     "output_type": "stream",
     "text": [
      "/home/mxq/.pyenv/versions/anaconda3-4.2.0/lib/python3.5/site-packages/ipykernel/__main__.py:2: UserWarning: Update your `Dense` call to the Keras 2 API: `Dense(activation=\"tanh\", input_dim=784, units=200, use_bias=\"one\")`\n",
      "  from ipykernel import kernelapp as app\n",
      "/home/mxq/.pyenv/versions/anaconda3-4.2.0/lib/python3.5/site-packages/ipykernel/__main__.py:3: UserWarning: Update your `Dense` call to the Keras 2 API: `Dense(activation=\"tanh\", units=100, use_bias=\"one\")`\n",
      "  app.launch_new_instance()\n",
      "/home/mxq/.pyenv/versions/anaconda3-4.2.0/lib/python3.5/site-packages/ipykernel/__main__.py:4: UserWarning: Update your `Dense` call to the Keras 2 API: `Dense(activation=\"softmax\", units=10, use_bias=\"one\")`\n"
     ]
    }
   ],
   "source": [
    "#创建模型\n",
    "model=Sequential([Dense(units=200,input_dim=784,bias='one',activation='tanh'),\n",
    "                  Dense(units=100,bias='one',activation='tanh'),\n",
    "                  Dense(units=10,bias='one',activation='softmax')])"
   ]
  },
  {
   "cell_type": "code",
   "execution_count": 4,
   "metadata": {
    "collapsed": true
   },
   "outputs": [],
   "source": [
    "#定义优化器\n",
    "sgd=SGD(lr=0.2)\n",
    "#定义loss func\n",
    "model.compile(optimizer=sgd,loss='mse',metrics=['accuracy'])"
   ]
  },
  {
   "cell_type": "code",
   "execution_count": 5,
   "metadata": {
    "collapsed": false
   },
   "outputs": [
    {
     "name": "stdout",
     "output_type": "stream",
     "text": [
      "Epoch 1/10\n",
      "60000/60000 [==============================] - 5s 90us/step - loss: 0.0257 - acc: 0.8404\n",
      "Epoch 2/10\n",
      "60000/60000 [==============================] - 5s 82us/step - loss: 0.0138 - acc: 0.9120\n",
      "Epoch 3/10\n",
      "60000/60000 [==============================] - 5s 82us/step - loss: 0.0120 - acc: 0.9235\n",
      "Epoch 4/10\n",
      "60000/60000 [==============================] - 5s 82us/step - loss: 0.0108 - acc: 0.9310\n",
      "Epoch 5/10\n",
      "60000/60000 [==============================] - 5s 82us/step - loss: 0.0099 - acc: 0.9378\n",
      "Epoch 6/10\n",
      "60000/60000 [==============================] - 5s 83us/step - loss: 0.0091 - acc: 0.9426\n",
      "Epoch 7/10\n",
      "60000/60000 [==============================] - 5s 83us/step - loss: 0.0085 - acc: 0.9468\n",
      "Epoch 8/10\n",
      "60000/60000 [==============================] - 5s 86us/step - loss: 0.0079 - acc: 0.9504\n",
      "Epoch 9/10\n",
      "60000/60000 [==============================] - 5s 84us/step - loss: 0.0074 - acc: 0.9540\n",
      "Epoch 10/10\n",
      "60000/60000 [==============================] - 5s 85us/step - loss: 0.0069 - acc: 0.9567\n",
      "10000/10000 [==============================] - 0s 40us/step\n"
     ]
    }
   ],
   "source": [
    "#训练模型\n",
    "model.fit(x_train,y_train,batch_size=32,epochs=10)\n",
    "\n",
    "#评估模型\n",
    "loss,accuracy=model.evaluate(x_test,y_test)"
   ]
  },
  {
   "cell_type": "code",
   "execution_count": 6,
   "metadata": {
    "collapsed": false
   },
   "outputs": [
    {
     "name": "stdout",
     "output_type": "stream",
     "text": [
      "test loss: 0.007146952431841055\n",
      "test accuracy: 0.954\n"
     ]
    }
   ],
   "source": [
    "print('test loss:',loss)\n",
    "print('test accuracy:',accuracy)"
   ]
  }
 ],
 "metadata": {
  "kernelspec": {
   "display_name": "Python [conda root]",
   "language": "python",
   "name": "conda-root-py"
  },
  "language_info": {
   "codemirror_mode": {
    "name": "ipython",
    "version": 3
   },
   "file_extension": ".py",
   "mimetype": "text/x-python",
   "name": "python",
   "nbconvert_exporter": "python",
   "pygments_lexer": "ipython3",
   "version": "3.5.2"
  }
 },
 "nbformat": 4,
 "nbformat_minor": 1
}
