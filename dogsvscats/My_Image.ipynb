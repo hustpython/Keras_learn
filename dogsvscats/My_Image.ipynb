{
 "cells": [
  {
   "cell_type": "markdown",
   "metadata": {},
   "source": [
    "# 将数据分组,并用软连接表示\n",
    "- 原始数据 25000\n",
    "- divide in to\n",
    "- train\n",
    " - dogs[1000]\n",
    " - cats[1000]\n",
    "- validation\n",
    " - dogs[400]\n",
    " - cats[400]"
   ]
  },
  {
   "cell_type": "code",
   "execution_count": 15,
   "metadata": {
    "collapsed": false
   },
   "outputs": [
    {
     "name": "stdout",
     "output_type": "stream",
     "text": [
      "done\n"
     ]
    }
   ],
   "source": [
    "import os\n",
    "from random import shuffle\n",
    "import shutil\n",
    "import numpy as np\n",
    "from collections import defaultdict\n",
    "#seed \n",
    "np.random.seed(2018)\n",
    "\n",
    "source_dir = '/home/mxq/Jupyter/Keras/dogsvscats/data/train'\n",
    "target_dir = '/home/mxq/Jupyter/Keras/dogsvscats/data'\n",
    "\n",
    "def datadivide():\n",
    "    samples,classes = generate_valid_imagepaths(source_dir)\n",
    "    for _ in classes.items():\n",
    "        shuffle(_[1])\n",
    "        classes[_[0]] = _[1][:20]\n",
    "    dothings(classes)\n",
    "    print('done')\n",
    "def dothings(classes):\n",
    "    for class_path in classes.items():\n",
    "        sub_dir = os.path.join(target_dir,class_path[0])\n",
    "        if os.path.exists(sub_dir):\n",
    "            shutil.rmtree(sub_dir)\n",
    "        os.mkdir(sub_dir)\n",
    "        filepaths = class_path[1]\n",
    "        symlink_img(filepaths,sub_dir)\n",
    "\n",
    "def symlink_img(filepaths,target_dir):\n",
    "    for source_filepath in filepaths:\n",
    "        symfilepath = os.path.split(source_filepath)[-1]\n",
    "        target_filepath = os.path.join(target_dir,symfilepath)\n",
    "        print(source_filepath,target_filepath)\n",
    "        os.symlink(source_filepath,target_filepath)\n",
    "    \n",
    "def generate_valid_imagepaths(directory,follow_links=False):\n",
    "    \n",
    "    def _recursive_list(subpath):\n",
    "        return sorted(os.walk(subpath,followlinks=follow_links),key=lambda tpl:tpl[0])\n",
    "    samples = 0\n",
    "    classes_file = defaultdict(list)\n",
    "    for dirpath, _, files in _recursive_list(directory):\n",
    "        for fname in sorted(files):\n",
    "            if fname[:3] == 'dog':\n",
    "               filepath = os.path.join(dirpath, fname)\n",
    "               classes_file['dogs'].append(filepath)\n",
    "               samples += 1\n",
    "            else:\n",
    "                filepath = os.path.join(dirpath, fname)\n",
    "                classes_file['cats'].append(filepath)\n",
    "                samples += 1\n",
    "                \n",
    "    return samples,classes_file\n",
    "if __name__ == '__main__':\n",
    "    datadivide()\n",
    "    "
   ]
  }
 ],
 "metadata": {
  "kernelspec": {
   "display_name": "Python [conda root]",
   "language": "python",
   "name": "conda-root-py"
  },
  "language_info": {
   "codemirror_mode": {
    "name": "ipython",
    "version": 3
   },
   "file_extension": ".py",
   "mimetype": "text/x-python",
   "name": "python",
   "nbconvert_exporter": "python",
   "pygments_lexer": "ipython3",
   "version": "3.5.2"
  }
 },
 "nbformat": 4,
 "nbformat_minor": 1
}
